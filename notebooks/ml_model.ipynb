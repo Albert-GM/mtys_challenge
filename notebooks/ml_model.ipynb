{
 "cells": [
  {
   "cell_type": "markdown",
   "id": "promotional-stewart",
   "metadata": {},
   "source": [
    "# SET ENVIRONMENT"
   ]
  },
  {
   "cell_type": "code",
   "execution_count": 1,
   "id": "dangerous-injury",
   "metadata": {},
   "outputs": [],
   "source": [
    "import pandas as pd\n",
    "import numpy as np\n",
    "from sklearn.ensemble import RandomForestRegressor\n",
    "from sklearn.model_selection import RandomizedSearchCV, train_test_split\n",
    "from sklearn.preprocessing import OneHotEncoder, StandardScaler\n",
    "from sklearn.compose import ColumnTransformer\n",
    "from sklearn.pipeline import Pipeline\n",
    "from scipy.stats import  loguniform, randint, uniform, reciprocal\n",
    "from sklearn.metrics import r2_score, mean_absolute_error\n",
    "from sklearn.svm import SVR\n",
    "import klib"
   ]
  },
  {
   "cell_type": "code",
   "execution_count": 2,
   "id": "accepting-binding",
   "metadata": {},
   "outputs": [
    {
     "data": {
      "text/html": [
       "<div>\n",
       "<style scoped>\n",
       "    .dataframe tbody tr th:only-of-type {\n",
       "        vertical-align: middle;\n",
       "    }\n",
       "\n",
       "    .dataframe tbody tr th {\n",
       "        vertical-align: top;\n",
       "    }\n",
       "\n",
       "    .dataframe thead th {\n",
       "        text-align: right;\n",
       "    }\n",
       "</style>\n",
       "<table border=\"1\" class=\"dataframe\">\n",
       "  <thead>\n",
       "    <tr style=\"text-align: right;\">\n",
       "      <th></th>\n",
       "      <th>budget</th>\n",
       "      <th>company</th>\n",
       "      <th>country</th>\n",
       "      <th>director</th>\n",
       "      <th>genre</th>\n",
       "      <th>gross</th>\n",
       "      <th>name</th>\n",
       "      <th>rating</th>\n",
       "      <th>released</th>\n",
       "      <th>runtime</th>\n",
       "      <th>score</th>\n",
       "      <th>star</th>\n",
       "      <th>votes</th>\n",
       "      <th>writer</th>\n",
       "      <th>year</th>\n",
       "    </tr>\n",
       "  </thead>\n",
       "  <tbody>\n",
       "    <tr>\n",
       "      <th>0</th>\n",
       "      <td>8000000.0</td>\n",
       "      <td>Columbia Pictures Corporation</td>\n",
       "      <td>USA</td>\n",
       "      <td>Rob Reiner</td>\n",
       "      <td>Adventure</td>\n",
       "      <td>52287414.0</td>\n",
       "      <td>Stand by Me</td>\n",
       "      <td>R</td>\n",
       "      <td>1986-08-22</td>\n",
       "      <td>89</td>\n",
       "      <td>8.1</td>\n",
       "      <td>Wil Wheaton</td>\n",
       "      <td>299174</td>\n",
       "      <td>Stephen King</td>\n",
       "      <td>1986</td>\n",
       "    </tr>\n",
       "    <tr>\n",
       "      <th>1</th>\n",
       "      <td>6000000.0</td>\n",
       "      <td>Paramount Pictures</td>\n",
       "      <td>USA</td>\n",
       "      <td>John Hughes</td>\n",
       "      <td>Comedy</td>\n",
       "      <td>70136369.0</td>\n",
       "      <td>Ferris Bueller's Day Off</td>\n",
       "      <td>PG-13</td>\n",
       "      <td>1986-06-11</td>\n",
       "      <td>103</td>\n",
       "      <td>7.8</td>\n",
       "      <td>Matthew Broderick</td>\n",
       "      <td>264740</td>\n",
       "      <td>John Hughes</td>\n",
       "      <td>1986</td>\n",
       "    </tr>\n",
       "    <tr>\n",
       "      <th>2</th>\n",
       "      <td>15000000.0</td>\n",
       "      <td>Paramount Pictures</td>\n",
       "      <td>USA</td>\n",
       "      <td>Tony Scott</td>\n",
       "      <td>Action</td>\n",
       "      <td>179800601.0</td>\n",
       "      <td>Top Gun</td>\n",
       "      <td>PG</td>\n",
       "      <td>1986-05-16</td>\n",
       "      <td>110</td>\n",
       "      <td>6.9</td>\n",
       "      <td>Tom Cruise</td>\n",
       "      <td>236909</td>\n",
       "      <td>Jim Cash</td>\n",
       "      <td>1986</td>\n",
       "    </tr>\n",
       "    <tr>\n",
       "      <th>3</th>\n",
       "      <td>18500000.0</td>\n",
       "      <td>Twentieth Century Fox Film Corporation</td>\n",
       "      <td>USA</td>\n",
       "      <td>James Cameron</td>\n",
       "      <td>Action</td>\n",
       "      <td>85160248.0</td>\n",
       "      <td>Aliens</td>\n",
       "      <td>R</td>\n",
       "      <td>1986-07-18</td>\n",
       "      <td>137</td>\n",
       "      <td>8.4</td>\n",
       "      <td>Sigourney Weaver</td>\n",
       "      <td>540152</td>\n",
       "      <td>James Cameron</td>\n",
       "      <td>1986</td>\n",
       "    </tr>\n",
       "    <tr>\n",
       "      <th>4</th>\n",
       "      <td>9000000.0</td>\n",
       "      <td>Walt Disney Pictures</td>\n",
       "      <td>USA</td>\n",
       "      <td>Randal Kleiser</td>\n",
       "      <td>Adventure</td>\n",
       "      <td>18564613.0</td>\n",
       "      <td>Flight of the Navigator</td>\n",
       "      <td>PG</td>\n",
       "      <td>1986-08-01</td>\n",
       "      <td>90</td>\n",
       "      <td>6.9</td>\n",
       "      <td>Joey Cramer</td>\n",
       "      <td>36636</td>\n",
       "      <td>Mark H. Baker</td>\n",
       "      <td>1986</td>\n",
       "    </tr>\n",
       "  </tbody>\n",
       "</table>\n",
       "</div>"
      ],
      "text/plain": [
       "       budget                                 company country        director  \\\n",
       "0   8000000.0           Columbia Pictures Corporation     USA      Rob Reiner   \n",
       "1   6000000.0                      Paramount Pictures     USA     John Hughes   \n",
       "2  15000000.0                      Paramount Pictures     USA      Tony Scott   \n",
       "3  18500000.0  Twentieth Century Fox Film Corporation     USA   James Cameron   \n",
       "4   9000000.0                    Walt Disney Pictures     USA  Randal Kleiser   \n",
       "\n",
       "       genre        gross                      name rating    released  \\\n",
       "0  Adventure   52287414.0               Stand by Me      R  1986-08-22   \n",
       "1     Comedy   70136369.0  Ferris Bueller's Day Off  PG-13  1986-06-11   \n",
       "2     Action  179800601.0                   Top Gun     PG  1986-05-16   \n",
       "3     Action   85160248.0                    Aliens      R  1986-07-18   \n",
       "4  Adventure   18564613.0   Flight of the Navigator     PG  1986-08-01   \n",
       "\n",
       "   runtime  score               star   votes         writer  year  \n",
       "0       89    8.1        Wil Wheaton  299174   Stephen King  1986  \n",
       "1      103    7.8  Matthew Broderick  264740    John Hughes  1986  \n",
       "2      110    6.9         Tom Cruise  236909       Jim Cash  1986  \n",
       "3      137    8.4   Sigourney Weaver  540152  James Cameron  1986  \n",
       "4       90    6.9        Joey Cramer   36636  Mark H. Baker  1986  "
      ]
     },
     "execution_count": 2,
     "metadata": {},
     "output_type": "execute_result"
    }
   ],
   "source": [
    "df_raw = pd.read_csv('../data/movies.csv')\n",
    "df_raw.head()"
   ]
  },
  {
   "cell_type": "code",
   "execution_count": 3,
   "id": "hollow-carter",
   "metadata": {},
   "outputs": [
    {
     "name": "stdout",
     "output_type": "stream",
     "text": [
      "<class 'pandas.core.frame.DataFrame'>\n",
      "RangeIndex: 6820 entries, 0 to 6819\n",
      "Data columns (total 15 columns):\n",
      " #   Column    Non-Null Count  Dtype  \n",
      "---  ------    --------------  -----  \n",
      " 0   budget    6820 non-null   float64\n",
      " 1   company   6820 non-null   object \n",
      " 2   country   6820 non-null   object \n",
      " 3   director  6820 non-null   object \n",
      " 4   genre     6820 non-null   object \n",
      " 5   gross     6820 non-null   float64\n",
      " 6   name      6820 non-null   object \n",
      " 7   rating    6820 non-null   object \n",
      " 8   released  6820 non-null   object \n",
      " 9   runtime   6820 non-null   int64  \n",
      " 10  score     6820 non-null   float64\n",
      " 11  star      6820 non-null   object \n",
      " 12  votes     6820 non-null   int64  \n",
      " 13  writer    6820 non-null   object \n",
      " 14  year      6820 non-null   int64  \n",
      "dtypes: float64(3), int64(3), object(9)\n",
      "memory usage: 799.3+ KB\n"
     ]
    }
   ],
   "source": [
    "df_raw.info()"
   ]
  },
  {
   "cell_type": "code",
   "execution_count": 4,
   "id": "generous-holly",
   "metadata": {},
   "outputs": [],
   "source": [
    "seed = 42"
   ]
  },
  {
   "cell_type": "code",
   "execution_count": 5,
   "id": "greenhouse-giant",
   "metadata": {},
   "outputs": [],
   "source": [
    "df = df_raw.copy()\n",
    "df = df.sample(frac=1)\n",
    "# replaces 0 by nans according to the description of the variable\n",
    "df['budget'] = df['budget'].replace(0, np.nan)"
   ]
  },
  {
   "cell_type": "code",
   "execution_count": 6,
   "id": "rough-scroll",
   "metadata": {},
   "outputs": [],
   "source": [
    "# changes released variable  to datetime\n",
    "df['released'] = pd.to_datetime(df['released'])\n",
    "# adding month as a new categorical feature\n",
    "df['month'] = df['released'].dt.month\n",
    "df['month'] = df['month'].astype('str')\n",
    "\n",
    "df['importance'] = df['score'] * df['votes']"
   ]
  },
  {
   "cell_type": "code",
   "execution_count": 7,
   "id": "owned-landscape",
   "metadata": {},
   "outputs": [
    {
     "data": {
      "text/plain": [
       "budget        2182\n",
       "company          0\n",
       "country          0\n",
       "director         0\n",
       "genre            0\n",
       "gross            0\n",
       "name             0\n",
       "rating           0\n",
       "released         0\n",
       "runtime          0\n",
       "score            0\n",
       "star             0\n",
       "votes            0\n",
       "writer           0\n",
       "year             0\n",
       "month            0\n",
       "importance       0\n",
       "dtype: int64"
      ]
     },
     "execution_count": 7,
     "metadata": {},
     "output_type": "execute_result"
    }
   ],
   "source": [
    "df.isna().sum()"
   ]
  },
  {
   "cell_type": "code",
   "execution_count": 8,
   "id": "further-identity",
   "metadata": {},
   "outputs": [],
   "source": [
    "N = 50\n",
    "s_genre = df['genre'].value_counts()\n",
    "s_genre = s_genre[s_genre>=N]\n",
    "l_genre = s_genre.index\n",
    "\n",
    "s_rating = df['rating'].value_counts()\n",
    "s_rating = s_rating[s_rating>=N]\n",
    "l_rating = s_rating.index"
   ]
  },
  {
   "cell_type": "code",
   "execution_count": 9,
   "id": "viral-advertiser",
   "metadata": {},
   "outputs": [],
   "source": [
    "# df['gross'] = np.log(df['gross'])"
   ]
  },
  {
   "cell_type": "code",
   "execution_count": 10,
   "id": "integrated-strategy",
   "metadata": {},
   "outputs": [
    {
     "data": {
      "text/html": [
       "<div>\n",
       "<style scoped>\n",
       "    .dataframe tbody tr th:only-of-type {\n",
       "        vertical-align: middle;\n",
       "    }\n",
       "\n",
       "    .dataframe tbody tr th {\n",
       "        vertical-align: top;\n",
       "    }\n",
       "\n",
       "    .dataframe thead th {\n",
       "        text-align: right;\n",
       "    }\n",
       "</style>\n",
       "<table border=\"1\" class=\"dataframe\">\n",
       "  <thead>\n",
       "    <tr style=\"text-align: right;\">\n",
       "      <th></th>\n",
       "      <th>budget</th>\n",
       "      <th>company</th>\n",
       "      <th>country</th>\n",
       "      <th>director</th>\n",
       "      <th>genre</th>\n",
       "      <th>gross</th>\n",
       "      <th>name</th>\n",
       "      <th>rating</th>\n",
       "      <th>released</th>\n",
       "      <th>runtime</th>\n",
       "      <th>score</th>\n",
       "      <th>star</th>\n",
       "      <th>votes</th>\n",
       "      <th>writer</th>\n",
       "      <th>year</th>\n",
       "      <th>month</th>\n",
       "      <th>importance</th>\n",
       "    </tr>\n",
       "  </thead>\n",
       "  <tbody>\n",
       "    <tr>\n",
       "      <th>5801</th>\n",
       "      <td>6000000.0</td>\n",
       "      <td>Also Known As Pictures</td>\n",
       "      <td>USA</td>\n",
       "      <td>Brian Klugman</td>\n",
       "      <td>Drama</td>\n",
       "      <td>11494838.0</td>\n",
       "      <td>The Words</td>\n",
       "      <td>PG-13</td>\n",
       "      <td>2012-09-07</td>\n",
       "      <td>102</td>\n",
       "      <td>7.1</td>\n",
       "      <td>Bradley Cooper</td>\n",
       "      <td>64718</td>\n",
       "      <td>Brian Klugman</td>\n",
       "      <td>2012</td>\n",
       "      <td>9</td>\n",
       "      <td>459497.8</td>\n",
       "    </tr>\n",
       "    <tr>\n",
       "      <th>2850</th>\n",
       "      <td>NaN</td>\n",
       "      <td>De Fina-Cappa</td>\n",
       "      <td>UK</td>\n",
       "      <td>Stephen Frears</td>\n",
       "      <td>Drama</td>\n",
       "      <td>163810.0</td>\n",
       "      <td>The Hi-Lo Country</td>\n",
       "      <td>R</td>\n",
       "      <td>1999-01-22</td>\n",
       "      <td>114</td>\n",
       "      <td>6.1</td>\n",
       "      <td>Billy Crudup</td>\n",
       "      <td>3807</td>\n",
       "      <td>Max Evans</td>\n",
       "      <td>1998</td>\n",
       "      <td>1</td>\n",
       "      <td>23222.7</td>\n",
       "    </tr>\n",
       "    <tr>\n",
       "      <th>2962</th>\n",
       "      <td>NaN</td>\n",
       "      <td>Irish Screen</td>\n",
       "      <td>UK</td>\n",
       "      <td>Justin Kerrigan</td>\n",
       "      <td>Comedy</td>\n",
       "      <td>104257.0</td>\n",
       "      <td>Human Traffic</td>\n",
       "      <td>R</td>\n",
       "      <td>2000-05-05</td>\n",
       "      <td>99</td>\n",
       "      <td>7.1</td>\n",
       "      <td>John Simm</td>\n",
       "      <td>20316</td>\n",
       "      <td>Justin Kerrigan</td>\n",
       "      <td>1999</td>\n",
       "      <td>5</td>\n",
       "      <td>144243.6</td>\n",
       "    </tr>\n",
       "    <tr>\n",
       "      <th>962</th>\n",
       "      <td>NaN</td>\n",
       "      <td>Epic Productions</td>\n",
       "      <td>USA</td>\n",
       "      <td>Emilio Estevez</td>\n",
       "      <td>Action</td>\n",
       "      <td>16247964.0</td>\n",
       "      <td>Men at Work</td>\n",
       "      <td>PG-13</td>\n",
       "      <td>1990-08-24</td>\n",
       "      <td>98</td>\n",
       "      <td>5.9</td>\n",
       "      <td>Charlie Sheen</td>\n",
       "      <td>19392</td>\n",
       "      <td>Emilio Estevez</td>\n",
       "      <td>1990</td>\n",
       "      <td>8</td>\n",
       "      <td>114412.8</td>\n",
       "    </tr>\n",
       "    <tr>\n",
       "      <th>1761</th>\n",
       "      <td>8000000.0</td>\n",
       "      <td>Miramax</td>\n",
       "      <td>USA</td>\n",
       "      <td>Quentin Tarantino</td>\n",
       "      <td>Crime</td>\n",
       "      <td>107928762.0</td>\n",
       "      <td>Pulp Fiction</td>\n",
       "      <td>R</td>\n",
       "      <td>1994-10-14</td>\n",
       "      <td>154</td>\n",
       "      <td>8.9</td>\n",
       "      <td>John Travolta</td>\n",
       "      <td>1456787</td>\n",
       "      <td>Quentin Tarantino</td>\n",
       "      <td>1994</td>\n",
       "      <td>10</td>\n",
       "      <td>12965404.3</td>\n",
       "    </tr>\n",
       "  </tbody>\n",
       "</table>\n",
       "</div>"
      ],
      "text/plain": [
       "         budget                 company country           director   genre  \\\n",
       "5801  6000000.0  Also Known As Pictures     USA      Brian Klugman   Drama   \n",
       "2850        NaN           De Fina-Cappa      UK     Stephen Frears   Drama   \n",
       "2962        NaN            Irish Screen      UK    Justin Kerrigan  Comedy   \n",
       "962         NaN        Epic Productions     USA     Emilio Estevez  Action   \n",
       "1761  8000000.0                 Miramax     USA  Quentin Tarantino   Crime   \n",
       "\n",
       "            gross               name rating   released  runtime  score  \\\n",
       "5801   11494838.0          The Words  PG-13 2012-09-07      102    7.1   \n",
       "2850     163810.0  The Hi-Lo Country      R 1999-01-22      114    6.1   \n",
       "2962     104257.0      Human Traffic      R 2000-05-05       99    7.1   \n",
       "962    16247964.0        Men at Work  PG-13 1990-08-24       98    5.9   \n",
       "1761  107928762.0       Pulp Fiction      R 1994-10-14      154    8.9   \n",
       "\n",
       "                star    votes             writer  year month  importance  \n",
       "5801  Bradley Cooper    64718      Brian Klugman  2012     9    459497.8  \n",
       "2850    Billy Crudup     3807          Max Evans  1998     1     23222.7  \n",
       "2962       John Simm    20316    Justin Kerrigan  1999     5    144243.6  \n",
       "962    Charlie Sheen    19392     Emilio Estevez  1990     8    114412.8  \n",
       "1761   John Travolta  1456787  Quentin Tarantino  1994    10  12965404.3  "
      ]
     },
     "execution_count": 10,
     "metadata": {},
     "output_type": "execute_result"
    }
   ],
   "source": [
    "df = df.loc[df['genre'].isin(l_genre)]\n",
    "df = df.loc[df['rating'].isin(l_rating)]\n",
    "df.head()"
   ]
  },
  {
   "cell_type": "code",
   "execution_count": 11,
   "id": "involved-munich",
   "metadata": {},
   "outputs": [
    {
     "data": {
      "text/plain": [
       "Index(['budget', 'company', 'country', 'director', 'genre', 'gross', 'name',\n",
       "       'rating', 'released', 'runtime', 'score', 'star', 'votes', 'writer',\n",
       "       'year'],\n",
       "      dtype='object')"
      ]
     },
     "execution_count": 11,
     "metadata": {},
     "output_type": "execute_result"
    }
   ],
   "source": [
    "df_raw.columns"
   ]
  },
  {
   "cell_type": "code",
   "execution_count": 12,
   "id": "political-gather",
   "metadata": {},
   "outputs": [],
   "source": [
    "feat = ['gross','budget','genre','rating','score','month','runtime','year', 'votes', 'importance']\n",
    "# feat = ['gross','budget','score','month','runtime','year', 'votes', 'importance']\n",
    "\n",
    "df = df[feat]"
   ]
  },
  {
   "cell_type": "code",
   "execution_count": 13,
   "id": "martial-questionnaire",
   "metadata": {},
   "outputs": [],
   "source": [
    "df.dropna(inplace=True)"
   ]
  },
  {
   "cell_type": "code",
   "execution_count": 14,
   "id": "adapted-travel",
   "metadata": {},
   "outputs": [
    {
     "data": {
      "text/html": [
       "<div>\n",
       "<style scoped>\n",
       "    .dataframe tbody tr th:only-of-type {\n",
       "        vertical-align: middle;\n",
       "    }\n",
       "\n",
       "    .dataframe tbody tr th {\n",
       "        vertical-align: top;\n",
       "    }\n",
       "\n",
       "    .dataframe thead th {\n",
       "        text-align: right;\n",
       "    }\n",
       "</style>\n",
       "<table border=\"1\" class=\"dataframe\">\n",
       "  <thead>\n",
       "    <tr style=\"text-align: right;\">\n",
       "      <th></th>\n",
       "      <th>gross</th>\n",
       "      <th>budget</th>\n",
       "      <th>score</th>\n",
       "      <th>runtime</th>\n",
       "      <th>year</th>\n",
       "      <th>votes</th>\n",
       "      <th>importance</th>\n",
       "    </tr>\n",
       "  </thead>\n",
       "  <tbody>\n",
       "    <tr>\n",
       "      <th>count</th>\n",
       "      <td>4.536000e+03</td>\n",
       "      <td>4.536000e+03</td>\n",
       "      <td>4536.000000</td>\n",
       "      <td>4536.000000</td>\n",
       "      <td>4536.000000</td>\n",
       "      <td>4.536000e+03</td>\n",
       "      <td>4.536000e+03</td>\n",
       "    </tr>\n",
       "    <tr>\n",
       "      <th>mean</th>\n",
       "      <td>4.654958e+07</td>\n",
       "      <td>3.647951e+07</td>\n",
       "      <td>6.360472</td>\n",
       "      <td>107.682099</td>\n",
       "      <td>2002.552249</td>\n",
       "      <td>9.581363e+04</td>\n",
       "      <td>6.798642e+05</td>\n",
       "    </tr>\n",
       "    <tr>\n",
       "      <th>std</th>\n",
       "      <td>6.673212e+07</td>\n",
       "      <td>4.017500e+07</td>\n",
       "      <td>1.009680</td>\n",
       "      <td>18.074900</td>\n",
       "      <td>8.447302</td>\n",
       "      <td>1.490797e+05</td>\n",
       "      <td>1.211359e+06</td>\n",
       "    </tr>\n",
       "    <tr>\n",
       "      <th>min</th>\n",
       "      <td>3.090000e+02</td>\n",
       "      <td>6.000000e+03</td>\n",
       "      <td>1.500000</td>\n",
       "      <td>69.000000</td>\n",
       "      <td>1986.000000</td>\n",
       "      <td>1.830000e+02</td>\n",
       "      <td>8.418000e+02</td>\n",
       "    </tr>\n",
       "    <tr>\n",
       "      <th>25%</th>\n",
       "      <td>6.514777e+06</td>\n",
       "      <td>1.000000e+07</td>\n",
       "      <td>5.800000</td>\n",
       "      <td>96.000000</td>\n",
       "      <td>1996.000000</td>\n",
       "      <td>1.623525e+04</td>\n",
       "      <td>9.382838e+04</td>\n",
       "    </tr>\n",
       "    <tr>\n",
       "      <th>50%</th>\n",
       "      <td>2.416771e+07</td>\n",
       "      <td>2.300000e+07</td>\n",
       "      <td>6.400000</td>\n",
       "      <td>104.000000</td>\n",
       "      <td>2003.000000</td>\n",
       "      <td>4.424000e+04</td>\n",
       "      <td>2.749810e+05</td>\n",
       "    </tr>\n",
       "    <tr>\n",
       "      <th>75%</th>\n",
       "      <td>5.834823e+07</td>\n",
       "      <td>4.700000e+07</td>\n",
       "      <td>7.100000</td>\n",
       "      <td>117.000000</td>\n",
       "      <td>2010.000000</td>\n",
       "      <td>1.099908e+05</td>\n",
       "      <td>7.245408e+05</td>\n",
       "    </tr>\n",
       "    <tr>\n",
       "      <th>max</th>\n",
       "      <td>9.366622e+08</td>\n",
       "      <td>3.000000e+08</td>\n",
       "      <td>9.300000</td>\n",
       "      <td>280.000000</td>\n",
       "      <td>2016.000000</td>\n",
       "      <td>1.861666e+06</td>\n",
       "      <td>1.731349e+07</td>\n",
       "    </tr>\n",
       "  </tbody>\n",
       "</table>\n",
       "</div>"
      ],
      "text/plain": [
       "              gross        budget        score      runtime         year  \\\n",
       "count  4.536000e+03  4.536000e+03  4536.000000  4536.000000  4536.000000   \n",
       "mean   4.654958e+07  3.647951e+07     6.360472   107.682099  2002.552249   \n",
       "std    6.673212e+07  4.017500e+07     1.009680    18.074900     8.447302   \n",
       "min    3.090000e+02  6.000000e+03     1.500000    69.000000  1986.000000   \n",
       "25%    6.514777e+06  1.000000e+07     5.800000    96.000000  1996.000000   \n",
       "50%    2.416771e+07  2.300000e+07     6.400000   104.000000  2003.000000   \n",
       "75%    5.834823e+07  4.700000e+07     7.100000   117.000000  2010.000000   \n",
       "max    9.366622e+08  3.000000e+08     9.300000   280.000000  2016.000000   \n",
       "\n",
       "              votes    importance  \n",
       "count  4.536000e+03  4.536000e+03  \n",
       "mean   9.581363e+04  6.798642e+05  \n",
       "std    1.490797e+05  1.211359e+06  \n",
       "min    1.830000e+02  8.418000e+02  \n",
       "25%    1.623525e+04  9.382838e+04  \n",
       "50%    4.424000e+04  2.749810e+05  \n",
       "75%    1.099908e+05  7.245408e+05  \n",
       "max    1.861666e+06  1.731349e+07  "
      ]
     },
     "execution_count": 14,
     "metadata": {},
     "output_type": "execute_result"
    }
   ],
   "source": [
    "df.describe()"
   ]
  },
  {
   "cell_type": "code",
   "execution_count": 15,
   "id": "sustained-behavior",
   "metadata": {},
   "outputs": [
    {
     "data": {
      "image/png": "[encoded data removed]",
      "text/plain": [
       "<Figure size 864x720 with 2 Axes>"
      ]
     },
     "metadata": {
      "needs_background": "light"
     },
     "output_type": "display_data"
    },
    {
     "data": {
      "image/png": "[encoded data removed]",
      "text/plain": [
       "<Figure size 864x720 with 2 Axes>"
      ]
     },
     "metadata": {
      "needs_background": "light"
     },
     "output_type": "display_data"
    }
   ],
   "source": [
    "# correlation between variables\n",
    "klib.corr_plot(df, mask=False);\n",
    "klib.corr_plot(df, target='gross');"
   ]
  },
  {
   "cell_type": "code",
   "execution_count": 16,
   "id": "medium-vietnam",
   "metadata": {},
   "outputs": [],
   "source": [
    "X = df.drop('gross', axis=1)\n",
    "y = df['gross']"
   ]
  },
  {
   "cell_type": "code",
   "execution_count": 17,
   "id": "limiting-baptist",
   "metadata": {},
   "outputs": [
    {
     "data": {
      "text/plain": [
       "((4536, 9), (4536,))"
      ]
     },
     "execution_count": 17,
     "metadata": {},
     "output_type": "execute_result"
    }
   ],
   "source": [
    "X.shape, y.shape"
   ]
  },
  {
   "cell_type": "code",
   "execution_count": 18,
   "id": "binding-following",
   "metadata": {},
   "outputs": [
    {
     "data": {
      "text/plain": [
       "Index(['budget', 'genre', 'rating', 'score', 'month', 'runtime', 'year',\n",
       "       'votes', 'importance'],\n",
       "      dtype='object')"
      ]
     },
     "execution_count": 18,
     "metadata": {},
     "output_type": "execute_result"
    }
   ],
   "source": [
    "X.columns"
   ]
  },
  {
   "cell_type": "code",
   "execution_count": 19,
   "id": "aerial-gregory",
   "metadata": {},
   "outputs": [],
   "source": [
    "cat_cols = ['genre','rating','month']\n",
    "# cat_cols = ['month']\n",
    "\n",
    "cat_pipe = Pipeline([\n",
    "    ('onehot', OneHotEncoder(handle_unknown='ignore'))\n",
    "])\n",
    "\n",
    "preprocessing = ColumnTransformer([\n",
    "   ('cat', cat_pipe, cat_cols)\n",
    "])\n",
    "\n",
    "estimator = Pipeline([\n",
    "    ('preprocess', preprocessing),\n",
    "    ('regressor', RandomForestRegressor())\n",
    "    \n",
    "])"
   ]
  },
  {
   "cell_type": "code",
   "execution_count": 20,
   "id": "numerous-capital",
   "metadata": {},
   "outputs": [],
   "source": [
    "X_train, X_test, y_train, y_test = train_test_split(X, y)"
   ]
  },
  {
   "cell_type": "code",
   "execution_count": 21,
   "id": "julian-primary",
   "metadata": {},
   "outputs": [
    {
     "data": {
      "text/plain": [
       "Pipeline(steps=[('preprocess',\n",
       "                 ColumnTransformer(transformers=[('cat',\n",
       "                                                  Pipeline(steps=[('onehot',\n",
       "                                                                   OneHotEncoder(handle_unknown='ignore'))]),\n",
       "                                                  ['genre', 'rating',\n",
       "                                                   'month'])])),\n",
       "                ('regressor', RandomForestRegressor())])"
      ]
     },
     "execution_count": 21,
     "metadata": {},
     "output_type": "execute_result"
    }
   ],
   "source": [
    "estimator.fit(X_train, y_train)"
   ]
  },
  {
   "cell_type": "code",
   "execution_count": 22,
   "id": "digital-transaction",
   "metadata": {},
   "outputs": [
    {
     "data": {
      "text/plain": [
       "0.2345207197489796"
      ]
     },
     "execution_count": 22,
     "metadata": {},
     "output_type": "execute_result"
    }
   ],
   "source": [
    "r2_score(y_test, estimator.predict(X_test))"
   ]
  },
  {
   "cell_type": "code",
   "execution_count": 23,
   "id": "refined-hierarchy",
   "metadata": {},
   "outputs": [],
   "source": [
    "param_dist = {'regressor__n_estimators': randint(20, 500),\n",
    "              'regressor__max_features': ['auto','sqrt'],\n",
    "              'regressor__min_samples_split': randint(2,20),\n",
    "              'regressor__min_samples_leaf': randint(1,10),\n",
    "              'regressor__bootstrap': [True, False]\n",
    "             }"
   ]
  },
  {
   "cell_type": "code",
   "execution_count": 24,
   "id": "plain-reducing",
   "metadata": {},
   "outputs": [],
   "source": [
    "random_search = RandomizedSearchCV(estimator, param_dist, n_iter=100, cv=3, scoring = ['r2','neg_mean_absolute_error'],\n",
    "                                   refit='r2', n_jobs=-1, verbose=1)"
   ]
  },
  {
   "cell_type": "code",
   "execution_count": 25,
   "id": "intensive-phase",
   "metadata": {},
   "outputs": [
    {
     "name": "stdout",
     "output_type": "stream",
     "text": [
      "Fitting 3 folds for each of 100 candidates, totalling 300 fits\n"
     ]
    },
    {
     "name": "stderr",
     "output_type": "stream",
     "text": [
      "[Parallel(n_jobs=-1)]: Using backend LokyBackend with 8 concurrent workers.\n",
      "[Parallel(n_jobs=-1)]: Done  34 tasks      | elapsed:    5.0s\n",
      "[Parallel(n_jobs=-1)]: Done 184 tasks      | elapsed:   20.4s\n",
      "[Parallel(n_jobs=-1)]: Done 300 out of 300 | elapsed:   32.2s finished\n"
     ]
    },
    {
     "data": {
      "text/plain": [
       "RandomizedSearchCV(cv=3,\n",
       "                   estimator=Pipeline(steps=[('preprocess',\n",
       "                                              ColumnTransformer(transformers=[('cat',\n",
       "                                                                               Pipeline(steps=[('onehot',\n",
       "                                                                                                OneHotEncoder(handle_unknown='ignore'))]),\n",
       "                                                                               ['genre',\n",
       "                                                                                'rating',\n",
       "                                                                                'month'])])),\n",
       "                                             ('regressor',\n",
       "                                              RandomForestRegressor())]),\n",
       "                   n_iter=100, n_jobs=-1,\n",
       "                   param_distributions={'regressor__bootstrap': [True, False],\n",
       "                                        'regressor__max_features': ['au...\n",
       "                                        'regressor__min_samples_leaf': <scipy.stats._distn_infrastructure.rv_frozen object at 0x0000014DAA0C7C40>,\n",
       "                                        'regressor__min_samples_split': <scipy.stats._distn_infrastructure.rv_frozen object at 0x0000014DAA653F70>,\n",
       "                                        'regressor__n_estimators': <scipy.stats._distn_infrastructure.rv_frozen object at 0x0000014DA4825340>},\n",
       "                   refit='r2', scoring=['r2', 'neg_mean_absolute_error'],\n",
       "                   verbose=1)"
      ]
     },
     "execution_count": 25,
     "metadata": {},
     "output_type": "execute_result"
    }
   ],
   "source": [
    "random_search.fit(X, y)"
   ]
  },
  {
   "cell_type": "code",
   "execution_count": 26,
   "id": "third-behalf",
   "metadata": {},
   "outputs": [
    {
     "data": {
      "text/plain": [
       "{'regressor__bootstrap': False,\n",
       " 'regressor__max_features': 'sqrt',\n",
       " 'regressor__min_samples_leaf': 6,\n",
       " 'regressor__min_samples_split': 14,\n",
       " 'regressor__n_estimators': 154}"
      ]
     },
     "execution_count": 26,
     "metadata": {},
     "output_type": "execute_result"
    }
   ],
   "source": [
    "random_search.best_params_"
   ]
  },
  {
   "cell_type": "code",
   "execution_count": 27,
   "id": "mechanical-compromise",
   "metadata": {},
   "outputs": [
    {
     "data": {
      "text/plain": [
       "0.2296321669058896"
      ]
     },
     "execution_count": 27,
     "metadata": {},
     "output_type": "execute_result"
    }
   ],
   "source": [
    "random_search.best_score_"
   ]
  },
  {
   "cell_type": "code",
   "execution_count": 28,
   "id": "completed-breach",
   "metadata": {},
   "outputs": [],
   "source": [
    "def ResultsRegressorGridSearch(gridsearch):\n",
    "    \n",
    "    print(\"Best parameters: {}\".format(gridsearch.best_params_))\n",
    "\n",
    "    mean_r2 = gridsearch.cv_results_['mean_test_r2'][gridsearch.best_index_]\n",
    "    std_r2 = gridsearch.cv_results_['std_test_r2'][gridsearch.best_index_]\n",
    "\n",
    "    mean_mae = gridsearch.cv_results_['mean_test_neg_mean_absolute_error'][gridsearch.best_index_]\n",
    "    std_mae = gridsearch.cv_results_['std_test_neg_mean_absolute_error'][gridsearch.best_index_]\n",
    "\n",
    "    print(f\"R2: {mean_r2}, {std_r2}\")\n",
    "    print(f\"MAE: {-mean_mae}, {std_mae}\")\n",
    "    \n",
    "    return None"
   ]
  },
  {
   "cell_type": "code",
   "execution_count": 29,
   "id": "metallic-details",
   "metadata": {},
   "outputs": [
    {
     "name": "stdout",
     "output_type": "stream",
     "text": [
      "Best parameters: {'regressor__bootstrap': False, 'regressor__max_features': 'sqrt', 'regressor__min_samples_leaf': 6, 'regressor__min_samples_split': 14, 'regressor__n_estimators': 154}\n",
      "R2: 0.2296321669058896, 0.027059875064963004\n",
      "MAE: 36360285.52419517, 501552.2992778532\n"
     ]
    }
   ],
   "source": [
    "ResultsRegressorGridSearch(random_search)"
   ]
  },
  {
   "cell_type": "markdown",
   "id": "collective-fleet",
   "metadata": {},
   "source": [
    "## SVR"
   ]
  },
  {
   "cell_type": "code",
   "execution_count": 30,
   "id": "decent-collectible",
   "metadata": {},
   "outputs": [
    {
     "data": {
      "text/plain": [
       "budget        float64\n",
       "genre          object\n",
       "rating         object\n",
       "score         float64\n",
       "month          object\n",
       "runtime         int64\n",
       "year            int64\n",
       "votes           int64\n",
       "importance    float64\n",
       "dtype: object"
      ]
     },
     "execution_count": 30,
     "metadata": {},
     "output_type": "execute_result"
    }
   ],
   "source": [
    "X.dtypes"
   ]
  },
  {
   "cell_type": "code",
   "execution_count": 31,
   "id": "natural-discount",
   "metadata": {},
   "outputs": [
    {
     "data": {
      "text/plain": [
       "Index(['budget', 'genre', 'rating', 'score', 'month', 'runtime', 'year',\n",
       "       'votes', 'importance'],\n",
       "      dtype='object')"
      ]
     },
     "execution_count": 31,
     "metadata": {},
     "output_type": "execute_result"
    }
   ],
   "source": [
    "X_train.columns"
   ]
  },
  {
   "cell_type": "code",
   "execution_count": 32,
   "id": "proof-microwave",
   "metadata": {},
   "outputs": [
    {
     "data": {
      "text/plain": [
       "budget        0\n",
       "genre         0\n",
       "rating        0\n",
       "score         0\n",
       "month         0\n",
       "runtime       0\n",
       "year          0\n",
       "votes         0\n",
       "importance    0\n",
       "dtype: int64"
      ]
     },
     "execution_count": 32,
     "metadata": {},
     "output_type": "execute_result"
    }
   ],
   "source": [
    "X_train.isna().sum()"
   ]
  },
  {
   "cell_type": "code",
   "execution_count": 33,
   "id": "forty-kennedy",
   "metadata": {},
   "outputs": [],
   "source": [
    "cat_cols = ['genre','rating','month']\n",
    "# cat_cols = ['month']\n",
    "\n",
    "num_cols = ['budget','score','runtime','year','votes', 'importance']\n",
    "\n",
    "\n",
    "cat_pipe = Pipeline([\n",
    "    ('onehot', OneHotEncoder(handle_unknown='ignore'))\n",
    "])\n",
    "\n",
    "num_pipe = Pipeline([\n",
    "    (\"scaler\", StandardScaler())\n",
    "])\n",
    "\n",
    "\n",
    "preprocessing = ColumnTransformer([\n",
    "   ('cat', cat_pipe, cat_cols),\n",
    "    ('num', num_pipe, num_cols)\n",
    "])\n",
    "\n",
    "estimator = Pipeline([\n",
    "    ('preprocess', preprocessing),\n",
    "    ('regressor', SVR(kernel='linear'))\n",
    "    \n",
    "])"
   ]
  },
  {
   "cell_type": "code",
   "execution_count": 34,
   "id": "collect-limit",
   "metadata": {},
   "outputs": [
    {
     "data": {
      "text/plain": [
       "-0.11450191874635718"
      ]
     },
     "execution_count": 34,
     "metadata": {},
     "output_type": "execute_result"
    }
   ],
   "source": [
    "estimator.fit(X_train, y_train)\n",
    "r2_score(y_test, estimator.predict(X_test))"
   ]
  },
  {
   "cell_type": "code",
   "execution_count": 35,
   "id": "juvenile-polymer",
   "metadata": {},
   "outputs": [],
   "source": [
    "param_dist = {\n",
    "              'regressor__kernel': ['linear','rbf','poly'],\n",
    "              'regressor__degree': randint(2,4),\n",
    "              'regressor__gamma': ['scale','auto'],\n",
    "              'regressor__C': reciprocal(0.1,100),\n",
    "             }\n",
    "\n",
    "random_search = RandomizedSearchCV(estimator, param_dist, n_iter=100, cv=3, scoring = ['r2','neg_mean_absolute_error'],\n",
    "                                   refit='r2', n_jobs=-1, verbose=1)"
   ]
  },
  {
   "cell_type": "code",
   "execution_count": 36,
   "id": "future-turkey",
   "metadata": {},
   "outputs": [
    {
     "name": "stdout",
     "output_type": "stream",
     "text": [
      "Fitting 3 folds for each of 100 candidates, totalling 300 fits\n"
     ]
    },
    {
     "name": "stderr",
     "output_type": "stream",
     "text": [
      "[Parallel(n_jobs=-1)]: Using backend LokyBackend with 8 concurrent workers.\n",
      "[Parallel(n_jobs=-1)]: Done  34 tasks      | elapsed:    2.2s\n",
      "[Parallel(n_jobs=-1)]: Done 184 tasks      | elapsed:   10.7s\n",
      "[Parallel(n_jobs=-1)]: Done 300 out of 300 | elapsed:   17.5s finished\n"
     ]
    },
    {
     "data": {
      "text/plain": [
       "RandomizedSearchCV(cv=3,\n",
       "                   estimator=Pipeline(steps=[('preprocess',\n",
       "                                              ColumnTransformer(transformers=[('cat',\n",
       "                                                                               Pipeline(steps=[('onehot',\n",
       "                                                                                                OneHotEncoder(handle_unknown='ignore'))]),\n",
       "                                                                               ['genre',\n",
       "                                                                                'rating',\n",
       "                                                                                'month']),\n",
       "                                                                              ('num',\n",
       "                                                                               Pipeline(steps=[('scaler',\n",
       "                                                                                                StandardScaler())]),\n",
       "                                                                               ['budget',\n",
       "                                                                                'score',\n",
       "                                                                                'runtime',\n",
       "                                                                                'year',\n",
       "                                                                                'votes',\n",
       "                                                                                'importance'])])),\n",
       "                                             ('regressor',\n",
       "                                              SVR(kernel='linear'))]),\n",
       "                   n_iter=100, n_jobs=-1,\n",
       "                   param_distributions={'regressor__C': <scipy.stats._distn_infrastructure.rv_frozen object at 0x0000014DA48306A0>,\n",
       "                                        'regressor__degree': <scipy.stats._distn_infrastructure.rv_frozen object at 0x0000014DAA6C6D30>,\n",
       "                                        'regressor__gamma': ['scale', 'auto'],\n",
       "                                        'regressor__kernel': ['linear', 'rbf',\n",
       "                                                              'poly']},\n",
       "                   refit='r2', scoring=['r2', 'neg_mean_absolute_error'],\n",
       "                   verbose=1)"
      ]
     },
     "execution_count": 36,
     "metadata": {},
     "output_type": "execute_result"
    }
   ],
   "source": [
    "random_search.fit(X, y)"
   ]
  },
  {
   "cell_type": "code",
   "execution_count": 37,
   "id": "exceptional-benchmark",
   "metadata": {},
   "outputs": [
    {
     "data": {
      "text/plain": [
       "{'regressor__C': 98.92413776905252,\n",
       " 'regressor__degree': 2,\n",
       " 'regressor__gamma': 'scale',\n",
       " 'regressor__kernel': 'linear'}"
      ]
     },
     "execution_count": 37,
     "metadata": {},
     "output_type": "execute_result"
    }
   ],
   "source": [
    "random_search.best_params_"
   ]
  },
  {
   "cell_type": "code",
   "execution_count": 38,
   "id": "upset-adobe",
   "metadata": {},
   "outputs": [
    {
     "data": {
      "text/plain": [
       "-0.10579504011661922"
      ]
     },
     "execution_count": 38,
     "metadata": {},
     "output_type": "execute_result"
    }
   ],
   "source": [
    "random_search.best_score_"
   ]
  },
  {
   "cell_type": "code",
   "execution_count": 39,
   "id": "figured-patent",
   "metadata": {},
   "outputs": [
    {
     "name": "stdout",
     "output_type": "stream",
     "text": [
      "Best parameters: {'regressor__C': 98.92413776905252, 'regressor__degree': 2, 'regressor__gamma': 'scale', 'regressor__kernel': 'linear'}\n",
      "R2: -0.10579504011661922, 0.011764108556961483\n",
      "MAE: 38143877.666968875, 902441.8867252445\n"
     ]
    }
   ],
   "source": [
    "ResultsRegressorGridSearch(random_search)"
   ]
  },
  {
   "cell_type": "markdown",
   "id": "strong-charm",
   "metadata": {},
   "source": [
    "# FINAL"
   ]
  },
  {
   "cell_type": "code",
   "execution_count": null,
   "id": "deadly-gather",
   "metadata": {},
   "outputs": [],
   "source": []
  }
 ],
 "metadata": {
  "kernelspec": {
   "display_name": "Python 3",
   "language": "python",
   "name": "python3"
  },
  "language_info": {
   "codemirror_mode": {
    "name": "ipython",
    "version": 3
   },
   "file_extension": ".py",
   "mimetype": "text/x-python",
   "name": "python",
   "nbconvert_exporter": "python",
   "pygments_lexer": "ipython3",
   "version": "3.8.5"
  }
 },
 "nbformat": 4,
 "nbformat_minor": 5
}
